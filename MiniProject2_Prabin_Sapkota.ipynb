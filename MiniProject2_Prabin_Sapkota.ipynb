{
  "nbformat": 4,
  "nbformat_minor": 0,
  "metadata": {
    "kernelspec": {
      "name": "Python 3.7.0 64-bit ('pop-venv')",
      "display_name": "Python 3.7.0 64-bit ('pop-venv')",
      "metadata": {
        "interpreter": {
          "hash": "19c5e90713794620510716387743e20c976655e16bc48870b5c7194411c2c55b"
        }
      }
    },
    "language_info": {
      "codemirror_mode": {
        "name": "ipython",
        "version": 3
      },
      "file_extension": ".py",
      "mimetype": "text/x-python",
      "name": "python",
      "nbconvert_exporter": "python",
      "pygments_lexer": "ipython3",
      "version": "3.7.0-final"
    },
    "colab": {
      "name": "MiniProject2_Prabin_Sapkota.ipynb",
      "provenance": [],
      "collapsed_sections": []
    }
  },
  "cells": [
    {
      "cell_type": "markdown",
      "metadata": {
        "id": "1T6AIaBC-rbo"
      },
      "source": [
        "# Project Overview"
      ]
    },
    {
      "cell_type": "markdown",
      "metadata": {
        "id": "DKdjY9br-rbp"
      },
      "source": [
        "In a short paragragh describe the problem you want to explore use data science techniques"
      ]
    },
    {
      "cell_type": "markdown",
      "metadata": {
        "id": "GMYglBTg-rbp"
      },
      "source": [
        "# Problem Description\n",
        "In one sentence describe the problem you want to explore with data science"
      ]
    },
    {
      "cell_type": "markdown",
      "metadata": {
        "id": "lzA_pCYy-rbq"
      },
      "source": [
        "# Subject Matter Expertise\n",
        "\n",
        "In bulleted format, describe the subject matters that will help you explore your topic. Example:\n",
        " \n",
        "1. Data Analysis\n",
        "2. Data Visualization\n",
        "3. Statistics and Probability\n",
        "4. Hypothesis Testing\n",
        "5. Linear Regression"
      ]
    },
    {
      "cell_type": "markdown",
      "metadata": {
        "id": "94BY4QVD-rbr"
      },
      "source": [
        "# Assumptions\n",
        "List any assumptions you may have about the topic. \n",
        "`Assumptions are a thing that is accepted as true or as certain to happen, without proof.`\n"
      ]
    },
    {
      "cell_type": "markdown",
      "metadata": {
        "id": "ww2yQSz6-rbr"
      },
      "source": [
        "# Steps to Explore the Topic and Problem\n",
        "\n",
        "List the steps you're going to take to explore the topic using the data sources you identify and the techniques you already know. Please list them as step 1, step 2, step 3. Example:\n",
        "\n",
        "1. Download data from U.S. Census\n",
        "2. Web-scrape data from IMDB\n",
        "3. Find the number of actors that do not live in california\n",
        "4. Calculate the median salary for actors that do not live in California\n",
        "5. Show the relationship between actors living in CA vs outside CA with pie chart\n",
        "6. Show relationship between actors' salary living in CA vs outside CA with bar chart\n",
        "7. Calculate median home price of homes in CA using web scrape data\n",
        "8. Compare this to median salary for actors using bar chart\n",
        "9. Make some intitial Conclusions on actor salary, location, and median home price on if actors can afford to live in CA."
      ]
    },
    {
      "cell_type": "markdown",
      "metadata": {
        "id": "UvPMIqK0-rbs"
      },
      "source": [
        "# Data Sources:\n",
        "\n",
        "In bulleted format, list where you will get data from. Data sources must include one existing data source and web-scrapted source. Example:\n",
        "\n",
        "1. U.S. Census Estimates of the Total Resident Population and Resident Population Age 18 Years and Older for the United States, States, and Puerto Rico `https://www2.census.gov/programs-surveys/popest/datasets/2010-2019/state/detail/SCPRC-EST2019-18+POP-RES.csv`\n",
        "2. Kaggle Elon Musk Tweets 'https://www.kaggle.com/kingburrito666/elon-musk-tweets'"
      ]
    },
    {
      "cell_type": "markdown",
      "metadata": {
        "id": "XMdhxYP3-rbs"
      },
      "source": [
        "# Data Exploration\n",
        "Describe the data using what you know. For larger datasets may have to pull out columns that are of interst to you."
      ]
    },
    {
      "cell_type": "code",
      "metadata": {
        "id": "_KroE4Bb-8Tc",
        "outputId": "d6d5b121-a522-4b97-c152-61238ad542f3",
        "colab": {
          "base_uri": "https://localhost:8080/"
        }
      },
      "source": [
        "# imports\n",
        "import pandas as pd\n",
        "import numpy as np\n",
        "import matplotlib\n",
        "%matplotlib inline\n",
        "import matplotlib.pyplot as plt\n",
        "plt.style.use('fivethirtyeight')\n",
        "\n",
        "from datascience.util import sample_proportions"
      ],
      "execution_count": 3,
      "outputs": []
    },
    {
      "cell_type": "code",
      "metadata": {
        "id": "KH6tKbtM_KY_",
        "outputId": "362bfd53-93d3-44ed-e36e-4c9f2a13531d",
        "colab": {
          "base_uri": "https://localhost:8080/",
          "height": 406
        }
      },
      "source": [
        "world_population = pd.read_csv(\"WorldPopulationByAge2020.csv\")\n",
        "world_population.head(20)"
      ],
      "execution_count": 26,
      "outputs": [
        {
          "output_type": "execute_result",
          "data": {
            "text/plain": [
              "                         Location AgeGrp   PopMale  PopFemale  PopTotal\n",
              "0                     Afghanistan   0-19   10709.0    10197.0   20906.0\n",
              "1                     Afghanistan  20-39    5994.0     5574.0   11568.0\n",
              "2                     Afghanistan  40-59    2485.0     2316.0    4801.0\n",
              "3                     Afghanistan    60+     781.0      858.0    1639.0\n",
              "4                          Africa   0-19  344109.0   334982.0  679091.0\n",
              "5                          Africa  20-39  197448.0   197144.0  394592.0\n",
              "6                          Africa  40-59   94547.0    98460.0  193007.0\n",
              "7                          Africa    60+   33767.0    40123.0   73890.0\n",
              "8                   African Group   0-19  343795.0   334677.0  678472.0\n",
              "9                   African Group  20-39  197193.0   196889.0  394082.0\n",
              "10                  African Group  40-59   94334.0    98248.0  192582.0\n",
              "11                  African Group    60+   33661.0    40007.0   73668.0\n",
              "12                  African Union   0-19  343901.0   334782.0  678683.0\n",
              "13                  African Union  20-39  197306.0   196990.0  394296.0\n",
              "14                  African Union  40-59   94407.0    98310.0  192717.0\n",
              "15                  African Union    60+   33684.0    40025.0   73709.0\n",
              "16  African Union: Central Africa   0-19   44287.0    43635.0   87922.0\n",
              "17  African Union: Central Africa  20-39   22146.0    22062.0   44208.0\n",
              "18  African Union: Central Africa  40-59    9556.0     9811.0   19367.0\n",
              "19  African Union: Central Africa    60+    3260.0     3842.0    7102.0"
            ],
            "text/html": "<div>\n<style scoped>\n    .dataframe tbody tr th:only-of-type {\n        vertical-align: middle;\n    }\n\n    .dataframe tbody tr th {\n        vertical-align: top;\n    }\n\n    .dataframe thead th {\n        text-align: right;\n    }\n</style>\n<table border=\"1\" class=\"dataframe\">\n  <thead>\n    <tr style=\"text-align: right;\">\n      <th></th>\n      <th>Location</th>\n      <th>AgeGrp</th>\n      <th>PopMale</th>\n      <th>PopFemale</th>\n      <th>PopTotal</th>\n    </tr>\n  </thead>\n  <tbody>\n    <tr>\n      <th>0</th>\n      <td>Afghanistan</td>\n      <td>0-19</td>\n      <td>10709.0</td>\n      <td>10197.0</td>\n      <td>20906.0</td>\n    </tr>\n    <tr>\n      <th>1</th>\n      <td>Afghanistan</td>\n      <td>20-39</td>\n      <td>5994.0</td>\n      <td>5574.0</td>\n      <td>11568.0</td>\n    </tr>\n    <tr>\n      <th>2</th>\n      <td>Afghanistan</td>\n      <td>40-59</td>\n      <td>2485.0</td>\n      <td>2316.0</td>\n      <td>4801.0</td>\n    </tr>\n    <tr>\n      <th>3</th>\n      <td>Afghanistan</td>\n      <td>60+</td>\n      <td>781.0</td>\n      <td>858.0</td>\n      <td>1639.0</td>\n    </tr>\n    <tr>\n      <th>4</th>\n      <td>Africa</td>\n      <td>0-19</td>\n      <td>344109.0</td>\n      <td>334982.0</td>\n      <td>679091.0</td>\n    </tr>\n    <tr>\n      <th>5</th>\n      <td>Africa</td>\n      <td>20-39</td>\n      <td>197448.0</td>\n      <td>197144.0</td>\n      <td>394592.0</td>\n    </tr>\n    <tr>\n      <th>6</th>\n      <td>Africa</td>\n      <td>40-59</td>\n      <td>94547.0</td>\n      <td>98460.0</td>\n      <td>193007.0</td>\n    </tr>\n    <tr>\n      <th>7</th>\n      <td>Africa</td>\n      <td>60+</td>\n      <td>33767.0</td>\n      <td>40123.0</td>\n      <td>73890.0</td>\n    </tr>\n    <tr>\n      <th>8</th>\n      <td>African Group</td>\n      <td>0-19</td>\n      <td>343795.0</td>\n      <td>334677.0</td>\n      <td>678472.0</td>\n    </tr>\n    <tr>\n      <th>9</th>\n      <td>African Group</td>\n      <td>20-39</td>\n      <td>197193.0</td>\n      <td>196889.0</td>\n      <td>394082.0</td>\n    </tr>\n    <tr>\n      <th>10</th>\n      <td>African Group</td>\n      <td>40-59</td>\n      <td>94334.0</td>\n      <td>98248.0</td>\n      <td>192582.0</td>\n    </tr>\n    <tr>\n      <th>11</th>\n      <td>African Group</td>\n      <td>60+</td>\n      <td>33661.0</td>\n      <td>40007.0</td>\n      <td>73668.0</td>\n    </tr>\n    <tr>\n      <th>12</th>\n      <td>African Union</td>\n      <td>0-19</td>\n      <td>343901.0</td>\n      <td>334782.0</td>\n      <td>678683.0</td>\n    </tr>\n    <tr>\n      <th>13</th>\n      <td>African Union</td>\n      <td>20-39</td>\n      <td>197306.0</td>\n      <td>196990.0</td>\n      <td>394296.0</td>\n    </tr>\n    <tr>\n      <th>14</th>\n      <td>African Union</td>\n      <td>40-59</td>\n      <td>94407.0</td>\n      <td>98310.0</td>\n      <td>192717.0</td>\n    </tr>\n    <tr>\n      <th>15</th>\n      <td>African Union</td>\n      <td>60+</td>\n      <td>33684.0</td>\n      <td>40025.0</td>\n      <td>73709.0</td>\n    </tr>\n    <tr>\n      <th>16</th>\n      <td>African Union: Central Africa</td>\n      <td>0-19</td>\n      <td>44287.0</td>\n      <td>43635.0</td>\n      <td>87922.0</td>\n    </tr>\n    <tr>\n      <th>17</th>\n      <td>African Union: Central Africa</td>\n      <td>20-39</td>\n      <td>22146.0</td>\n      <td>22062.0</td>\n      <td>44208.0</td>\n    </tr>\n    <tr>\n      <th>18</th>\n      <td>African Union: Central Africa</td>\n      <td>40-59</td>\n      <td>9556.0</td>\n      <td>9811.0</td>\n      <td>19367.0</td>\n    </tr>\n    <tr>\n      <th>19</th>\n      <td>African Union: Central Africa</td>\n      <td>60+</td>\n      <td>3260.0</td>\n      <td>3842.0</td>\n      <td>7102.0</td>\n    </tr>\n  </tbody>\n</table>\n</div>"
          },
          "metadata": {},
          "execution_count": 26
        }
      ]
    },
    {
      "cell_type": "markdown",
      "metadata": {
        "id": "qVIXF9Rn-rbt"
      },
      "source": [
        "# Data Cleaning\n",
        "Show techniques you use to reduce impact of outliers, drop missing, or null values (if any)"
      ]
    },
    {
      "cell_type": "code",
      "execution_count": 25,
      "metadata": {},
      "outputs": [
        {
          "output_type": "stream",
          "name": "stdout",
          "text": [
            "Location Nan values count: 0\nAge Group Nan values count: 0\nMale Population Nan values count: 0\nFemale Population Nan values count: 0\nTotal Population Nan values count: 0\n"
          ]
        }
      ],
      "source": [
        "print(\"Location Nan values count:\", world_population[\"Location\"].isna().sum())\n",
        "print(\"Age Group Nan values count:\", world_population[\"AgeGrp\"].isna().sum())\n",
        "print(\"Male Population Nan values count:\", world_population[\"PopMale\"].isna().sum())\n",
        "print(\"Female Population Nan values count:\", world_population[\"PopFemale\"].isna().sum())\n",
        "print(\"Total Population Nan values count:\", world_population[\"PopTotal\"].isna().sum())"
      ]
    },
    {
      "source": [
        "As we can see above, we have no NaN values in the dataframe, so we do not need to filter anything. Another thing that we can see in the dataframe is \"Africa\" which is not necesarily a country. The column header is not country but location, so the dataframe consists of data for countries, continents, and other kinds of geeographical areas. It is not neecessary to filter those as we will be selecting only the values that we need and not be concerned with the values we do not need."
      ],
      "cell_type": "markdown",
      "metadata": {}
    },
    {
      "cell_type": "markdown",
      "metadata": {
        "id": "Il_RO06n-rbt"
      },
      "source": [
        "# Describe the Data Using Descriptive Stats\n",
        "Use descriptive stats to tell us about your data. Must include mean, median, and mode where applicable. Also must talk about normality of data.\n",
        "\n",
        "Remember what `standard deviation`, `mean`, `central tendency`, and `variance` mean for your data"
      ]
    },
    {
      "cell_type": "code",
      "execution_count": 32,
      "metadata": {},
      "outputs": [
        {
          "output_type": "stream",
          "name": "stdout",
          "text": [
            "For column  PopMale\nMean 88324.34431818181\nMedian 8066.0\nMode 0    12.0\n1    16.0\n2    23.0\n3    36.0\ndtype: float64\nStandard Deviation 195822.10023695984\nVariance 38346294941.21395\n\nFor column  PopFemale\nMean 86534.43863636363\nMedian 8187.5\nMode 0    12.0\ndtype: float64\nStandard Deviation 187027.9601316678\nVariance 34979457871.01272\n\nFor column  PopTotal\nMean 174858.78295454546\nMedian 16211.0\nMode 0    32.0\ndtype: float64\nStandard Deviation 382681.6110750213\nVariance 146445215454.97388\n\n"
          ]
        }
      ],
      "source": [
        "def print_descriptive_stats(column):\n",
        "    print(\"For column \", column)\n",
        "    print(\"Mean\", world_population[column].mean())\n",
        "    print(\"Median\", world_population[column].median())\n",
        "    print(\"Mode\", world_population[column].mode())\n",
        "    print(\"Standard Deviation\", world_population[column].std())\n",
        "    print(\"Variance\", world_population[column].var())\n",
        "    print()\n",
        "\n",
        "print_descriptive_stats(\"PopMale\")\n",
        "print_descriptive_stats(\"PopFemale\")\n",
        "print_descriptive_stats(\"PopTotal\")"
      ]
    },
    {
      "source": [
        "The above descriptive statistics do not really mean anything for us because of our purpose and because of the structure of the dataframe. The location is arbitrary and it is not useful to invest time in filtering just the locations that we need when we can easily select the data that we need. \n",
        "\n",
        "We are concerning ourselves with only the data from Nepal, so lets find out the population for male, female, and total population for all four age groups of Nepal.\n",
        "\n",
        "\n",
        "\n"
      ],
      "cell_type": "markdown",
      "metadata": {}
    },
    {
      "cell_type": "code",
      "execution_count": 45,
      "metadata": {},
      "outputs": [
        {
          "output_type": "stream",
          "name": "stdout",
          "text": [
            "[5848.0, 4050.0, 2291.0, 1149.0]\n[5732.0, 5626.0, 3058.0, 1365.0]\nMale:Female ratio in total Nepal population: 0.45805144407431575:0.5419485559256842\n\nFor Nepal male population:\nMean:  3334.5\nMedian:  3170.5\nStandard Deviation:  2057.095444228747\nVariance:  4231641.666666667\n\nFor Nepal female population:\nMean:  3945.25\nMedian:  4342.0\nStandard Deviation:  2118.356182672467\nVariance:  4487432.916666667\n"
          ]
        }
      ],
      "source": [
        "import statistics\n",
        "\n",
        "# Get actual values of male and female population\n",
        "def get_male_female_pop(location, age_group):\n",
        "    male_pop = world_population.loc[(world_population[\"Location\"] == location) & (world_population[\"AgeGrp\"] == age_group), \"PopMale\"]\n",
        "    female_pop = world_population.loc[(world_population[\"Location\"] == location) & (world_population[\"AgeGrp\"] == age_group), \"PopFemale\"]\n",
        "    return (male_pop, female_pop)\n",
        "\n",
        "nepal_age_0_19_male, nepal_age_0_19_female = get_male_female_pop(\"Nepal\", \"0-19\")\n",
        "nepal_age_20_39_male, nepal_age_20_39_female = get_male_female_pop(\"Nepal\", \"20-39\")\n",
        "nepal_age_40_59_male, nepal_age_40_59_female = get_male_female_pop(\"Nepal\", \"40-59\")\n",
        "nepal_age_60_plus_male, nepal_age_60_plus_female = get_male_female_pop(\"Nepal\", \"60+\")\n",
        "\n",
        "nepal_male_pop = [nepal_age_0_19_male.iloc[0], nepal_age_20_39_male.iloc[0], nepal_age_40_59_male.iloc[0], nepal_age_60_plus_male.iloc[0]]\n",
        "nepal_female_pop = [nepal_age_0_19_female.iloc[0], nepal_age_20_39_female.iloc[0], nepal_age_40_59_female.iloc[0], nepal_age_60_plus_female.iloc[0]]\n",
        "\n",
        "print(nepal_male_pop)\n",
        "print(nepal_female_pop)\n",
        "\n",
        "nepal_total_male_pop = sum(nepal_male_pop)\n",
        "nepal_total_female_pop = sum(nepal_female_pop)\n",
        "nepal_total_population = nepal_total_male_pop + nepal_total_female_pop\n",
        "nepal_male_portion = nepal_total_male_pop / nepal_total_population\n",
        "nepal_female_portion = nepal_total_female_pop / nepal_total_population\n",
        "print(\"Male:Female ratio in total Nepal population: \" + str(nepal_male_portion) + \":\" + str(nepal_female_portion) + \"\\n\")\n",
        "\n",
        "def print_descriptive_stats_nepal(nepal_male_pop, nepal_female_pop):\n",
        "    print(\"For Nepal male population:\")\n",
        "    print(\"Mean: \", statistics.mean(nepal_male_pop))\n",
        "    print(\"Median: \", statistics.median(nepal_male_pop))\n",
        "    print(\"Standard Deviation: \", statistics.stdev(nepal_male_pop))\n",
        "    print(\"Variance: \", statistics.variance(nepal_male_pop))\n",
        "    print()\n",
        "\n",
        "    print(\"For Nepal female population:\")\n",
        "    print(\"Mean: \", statistics.mean(nepal_female_pop))\n",
        "    print(\"Median: \", statistics.median(nepal_female_pop))\n",
        "    print(\"Standard Deviation: \", statistics.stdev(nepal_female_pop))\n",
        "    print(\"Variance: \", statistics.variance(nepal_female_pop))\n",
        "\n",
        "print_descriptive_stats_nepal(nepal_male_pop, nepal_female_pop)"
      ]
    },
    {
      "cell_type": "markdown",
      "metadata": {
        "id": "FW74zvxK-rbu"
      },
      "source": [
        "# Data Visualization Continued\n",
        "Use everything from the miniproject 1 to describe the plots you will use to visualize you data. \n",
        "\n",
        "Must use histogram, bar charts, and pie charts to describe aspects about the data\n",
        "\n",
        "Determine if your data is normal or not!\n",
        "\n"
      ]
    },
    {
      "cell_type": "code",
      "execution_count": null,
      "metadata": {},
      "outputs": [],
      "source": [
        "def visualize_histogram()"
      ]
    },
    {
      "cell_type": "markdown",
      "metadata": {
        "id": "ESgKeROp-rbu"
      },
      "source": [
        "## Data Sampling\n",
        "\n",
        "Draw random some samples from your dataset(s)\n",
        "(If you joined your dataset into one large dataset, only sample randomly from this large dataset)\n",
        "\n",
        "You must describe how you choose to pick the random samples, i.e. systematic, probablistic sampling\n",
        "\n",
        "You must describe if you draw random samples with or without replacement\n",
        "\n",
        "Describe why or why not you chose to randomly draw samples with replacement or without replacement"
      ]
    },
    {
      "cell_type": "markdown",
      "metadata": {
        "id": "t__mmaWa-rbu"
      },
      "source": [
        "## Find Probability\n",
        "Find the probability of two events that must both happen in your data analysis\n",
        "\n",
        "Find the probablity of an event that doesn't happen using your dataset(s)\n",
        "\n",
        "Find the probability of event that is equally likely occur. You might have to think about this in regards to your problem that you are exploring\n",
        "\n"
      ]
    },
    {
      "cell_type": "markdown",
      "metadata": {
        "id": "CNSX8diI-rbv"
      },
      "source": [
        "## Testing Hypotheses\n",
        "\n",
        "Choose two hypotheses you want to explore in regards to your topic.\n",
        "Examples:\n",
        "The state of Montana likes cheesecake as a desert?\n",
        "Have the demographics of Washington, DC decreased over the past decade?\n",
        "United States streaming services mainly stream rap or hip/hop?\n",
        "\n",
        "### Note: Make sure to note the Null and the alternative hypotheses for each of the questions you want to test"
      ]
    },
    {
      "cell_type": "markdown",
      "metadata": {
        "id": "X1c7V0o--rbv"
      },
      "source": [
        "## Test Statistics \n",
        "For each of your questions list the test statistic that you are going to use to test the hypothesis."
      ]
    },
    {
      "cell_type": "markdown",
      "metadata": {
        "id": "ia9awlPk-rbw"
      },
      "source": [
        "## Observed Values\n",
        "Show the oberved value of the test statistics"
      ]
    },
    {
      "cell_type": "markdown",
      "metadata": {
        "id": "zroHryZ4-rbw"
      },
      "source": [
        "# Hypothesis Tests Conclusions\n",
        "Based on what you found about your topic communicate it to the audience. "
      ]
    },
    {
      "cell_type": "markdown",
      "metadata": {
        "id": "YNvyDfog-rbx"
      },
      "source": [
        "# Topic Conclusions\n",
        "Sum up the conclusions about what you did and why it is interesting to you, the public reading your analysis or to a particular population"
      ]
    },
    {
      "cell_type": "code",
      "metadata": {
        "id": "0mkjpyj1-rbx"
      },
      "source": [
        ""
      ],
      "execution_count": null,
      "outputs": []
    }
  ]
}