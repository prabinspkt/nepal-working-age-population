{
 "metadata": {
  "language_info": {
   "codemirror_mode": {
    "name": "ipython",
    "version": 3
   },
   "file_extension": ".py",
   "mimetype": "text/x-python",
   "name": "python",
   "nbconvert_exporter": "python",
   "pygments_lexer": "ipython3",
   "version": "3.7.0-final"
  },
  "orig_nbformat": 2,
  "kernelspec": {
   "name": "Python 3.7.0 64-bit ('pop-venv')",
   "display_name": "Python 3.7.0 64-bit ('pop-venv')",
   "metadata": {
    "interpreter": {
     "hash": "19c5e90713794620510716387743e20c976655e16bc48870b5c7194411c2c55b"
    }
   }
  }
 },
 "nbformat": 4,
 "nbformat_minor": 2,
 "cells": [
  {
   "cell_type": "code",
   "execution_count": 27,
   "metadata": {},
   "outputs": [],
   "source": [
    "# imports\n",
    "import pandas as pd\n",
    "import numpy as np\n",
    "import matplotlib\n",
    "%matplotlib inline\n",
    "import matplotlib.pyplot as plt\n",
    "plt.style.use('fivethirtyeight')\n",
    "\n",
    "from datascience.util import sample_proportions"
   ]
  },
  {
   "cell_type": "code",
   "execution_count": 4,
   "metadata": {},
   "outputs": [
    {
     "output_type": "execute_result",
     "data": {
      "text/plain": [
       "         Location AgeGrp   PopMale  PopFemale  PopTotal\n",
       "0     Afghanistan   0-19   10709.0    10197.0   20906.0\n",
       "1     Afghanistan  20-39    5994.0     5574.0   11568.0\n",
       "2     Afghanistan  40-59    2485.0     2316.0    4801.0\n",
       "3     Afghanistan    60+     781.0      858.0    1639.0\n",
       "4          Africa   0-19  344109.0   334982.0  679091.0\n",
       "...           ...    ...       ...        ...       ...\n",
       "1755       Zambia    60+     258.0      365.0     623.0\n",
       "1756     Zimbabwe   0-19    3941.0     3923.0    7864.0\n",
       "1757     Zimbabwe  20-39    1993.0     2354.0    4347.0\n",
       "1758     Zimbabwe  40-59     892.0     1060.0    1952.0\n",
       "1759     Zimbabwe    60+     257.0      424.0     681.0\n",
       "\n",
       "[1760 rows x 5 columns]"
      ],
      "text/html": "<div>\n<style scoped>\n    .dataframe tbody tr th:only-of-type {\n        vertical-align: middle;\n    }\n\n    .dataframe tbody tr th {\n        vertical-align: top;\n    }\n\n    .dataframe thead th {\n        text-align: right;\n    }\n</style>\n<table border=\"1\" class=\"dataframe\">\n  <thead>\n    <tr style=\"text-align: right;\">\n      <th></th>\n      <th>Location</th>\n      <th>AgeGrp</th>\n      <th>PopMale</th>\n      <th>PopFemale</th>\n      <th>PopTotal</th>\n    </tr>\n  </thead>\n  <tbody>\n    <tr>\n      <th>0</th>\n      <td>Afghanistan</td>\n      <td>0-19</td>\n      <td>10709.0</td>\n      <td>10197.0</td>\n      <td>20906.0</td>\n    </tr>\n    <tr>\n      <th>1</th>\n      <td>Afghanistan</td>\n      <td>20-39</td>\n      <td>5994.0</td>\n      <td>5574.0</td>\n      <td>11568.0</td>\n    </tr>\n    <tr>\n      <th>2</th>\n      <td>Afghanistan</td>\n      <td>40-59</td>\n      <td>2485.0</td>\n      <td>2316.0</td>\n      <td>4801.0</td>\n    </tr>\n    <tr>\n      <th>3</th>\n      <td>Afghanistan</td>\n      <td>60+</td>\n      <td>781.0</td>\n      <td>858.0</td>\n      <td>1639.0</td>\n    </tr>\n    <tr>\n      <th>4</th>\n      <td>Africa</td>\n      <td>0-19</td>\n      <td>344109.0</td>\n      <td>334982.0</td>\n      <td>679091.0</td>\n    </tr>\n    <tr>\n      <th>...</th>\n      <td>...</td>\n      <td>...</td>\n      <td>...</td>\n      <td>...</td>\n      <td>...</td>\n    </tr>\n    <tr>\n      <th>1755</th>\n      <td>Zambia</td>\n      <td>60+</td>\n      <td>258.0</td>\n      <td>365.0</td>\n      <td>623.0</td>\n    </tr>\n    <tr>\n      <th>1756</th>\n      <td>Zimbabwe</td>\n      <td>0-19</td>\n      <td>3941.0</td>\n      <td>3923.0</td>\n      <td>7864.0</td>\n    </tr>\n    <tr>\n      <th>1757</th>\n      <td>Zimbabwe</td>\n      <td>20-39</td>\n      <td>1993.0</td>\n      <td>2354.0</td>\n      <td>4347.0</td>\n    </tr>\n    <tr>\n      <th>1758</th>\n      <td>Zimbabwe</td>\n      <td>40-59</td>\n      <td>892.0</td>\n      <td>1060.0</td>\n      <td>1952.0</td>\n    </tr>\n    <tr>\n      <th>1759</th>\n      <td>Zimbabwe</td>\n      <td>60+</td>\n      <td>257.0</td>\n      <td>424.0</td>\n      <td>681.0</td>\n    </tr>\n  </tbody>\n</table>\n<p>1760 rows × 5 columns</p>\n</div>"
     },
     "metadata": {},
     "execution_count": 4
    }
   ],
   "source": [
    "world_population = pd.read_csv(\"WorldPopulationByAge2020.csv\")\n",
    "world_population"
   ]
  },
  {
   "cell_type": "code",
   "execution_count": 40,
   "metadata": {},
   "outputs": [],
   "source": [
    "# world_population[\"male_female_difference\"] = world_population[\"PopMale\"] - world_population[\"PopFemale\"]\n",
    "# world_population"
   ]
  },
  {
   "cell_type": "code",
   "execution_count": 54,
   "metadata": {},
   "outputs": [
    {
     "output_type": "stream",
     "name": "stdout",
     "text": [
      "142.0000000000005\n"
     ]
    }
   ],
   "source": [
    "# General assumptoin is that the male and female population will be generally distributeed in half\n",
    "# We can change this distribution by calculating the general trend in male and female population percent in all countries, maybe for that particular age group\n",
    "male_female_expected_distribution = [0.5, 0.5]\n",
    "\n",
    "def get_one_simulation(location, age_group, population_type):\n",
    "    total_pop = world_population.loc[(world_population[\"Location\"] == location) & (world_population[\"AgeGrp\"] == age_group), population_type]\n",
    "    one_sample = sample_proportions(total_pop.iloc[0] , male_female_expected_distribution)\n",
    "    one_sample_male_female_diff = (one_sample[0] - one_sample[1]) * total_pop.iloc[0]\n",
    "    return one_sample_male_female_diff\n",
    "\n",
    "print(get_one_simulation(\"Nepal\", \"20-39\", \"PopTotal\"))\n"
   ]
  },
  {
   "cell_type": "code",
   "execution_count": 55,
   "metadata": {},
   "outputs": [
    {
     "output_type": "execute_result",
     "data": {
      "text/plain": [
       "1097   -1576.0\n",
       "dtype: float64"
      ]
     },
     "metadata": {},
     "execution_count": 55
    }
   ],
   "source": [
    "# Get actual values of male and female population and compute the difference\n",
    "def get_male_female_pop(location, age_group):\n",
    "    male_pop = world_population.loc[(world_population[\"Location\"] == location) & (world_population[\"AgeGrp\"] == age_group), \"PopMale\"]\n",
    "    female_pop = world_population.loc[(world_population[\"Location\"] == location) & (world_population[\"AgeGrp\"] == age_group), \"PopFemale\"]\n",
    "    return (male_pop, female_pop)\n",
    "\n",
    "nepal_male_pop, nepal_female_pop = get_male_female_pop(\"Nepal\", \"20-39\")\n",
    "nepal_male_female_diff = nepal_male_pop - nepal_female_pop\n",
    "nepal_male_female_diff"
   ]
  },
  {
   "cell_type": "code",
   "execution_count": 56,
   "metadata": {},
   "outputs": [],
   "source": [
    "# Do 1000 simulations\n",
    "male_female_pop_diffs = []\n",
    "\n",
    "for i in range(0,1000):\n",
    "    one_sample = get_one_simulation(\"Nepal\", \"20-39\", \"PopTotal\")\n",
    "    male_female_pop_diffs.append(one_sample)"
   ]
  },
  {
   "cell_type": "code",
   "execution_count": null,
   "metadata": {},
   "outputs": [],
   "source": [
    "# Draw histogram from the distribution\n"
   ]
  }
 ]
}